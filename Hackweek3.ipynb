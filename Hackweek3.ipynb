{
 "cells": [
  {
   "cell_type": "code",
   "execution_count": 1,
   "metadata": {},
   "outputs": [
    {
     "name": "stdout",
     "output_type": "stream",
     "text": [
      "Populating the interactive namespace from numpy and matplotlib\n"
     ]
    }
   ],
   "source": [
    "% pylab inline\n",
    "\n",
    "from __future__ import print_function\n",
    "import IPython\n",
    "import scipy\n",
    "import sklearn\n",
    "import pandas as pd\n",
    "import altair as alt"
   ]
  },
  {
   "cell_type": "code",
   "execution_count": 2,
   "metadata": {},
   "outputs": [],
   "source": [
    "#Type = str(input(\"What is the type of molecule? \"))\n",
    "#print (\"Type of molecule : \", Type)"
   ]
  },
  {
   "cell_type": "code",
   "execution_count": 3,
   "metadata": {},
   "outputs": [],
   "source": [
    "#data=pd.read_csv('/Users/kanchan/Documents/data.csv')"
   ]
  },
  {
   "cell_type": "markdown",
   "metadata": {},
   "source": [
    "Import Data"
   ]
  },
  {
   "cell_type": "code",
   "execution_count": 4,
   "metadata": {},
   "outputs": [],
   "source": [
    "def potential(Type,X):\n",
    "    data=pd.read_csv('/Users/kanchan/Documents/data.csv')\n",
    "    \n",
    "    df1=data.iloc[0:10]\n",
    "    df2=data.iloc[10:]\n",
    "    \n",
    "    if Type=='A':\n",
    "        df=df1\n",
    "    else:\n",
    "        df=df2\n",
    "            \n",
    "    x = df.values[:,1:10]\n",
    "    y = df['E1'].values\n",
    "    \n",
    "   \n",
    "    NoF=df['NoF'].values\n",
    "    F=df['F'].values\n",
    "    CF3=df['CF3'].values\n",
    "    \n",
    "    model = LinearRegression(normalize=True)  \n",
    "    model.fit(x, y)\n",
    "    \n",
    "    y_fit = model.predict(X)\n",
    "    \n",
    "    return y_fit"
   ]
  },
  {
   "cell_type": "code",
   "execution_count": null,
   "metadata": {},
   "outputs": [],
   "source": []
  },
  {
   "cell_type": "code",
   "execution_count": 5,
   "metadata": {},
   "outputs": [
    {
     "ename": "NameError",
     "evalue": "name 'Type' is not defined",
     "output_type": "error",
     "traceback": [
      "\u001b[0;31m---------------------------------------------------------------------------\u001b[0m",
      "\u001b[0;31mNameError\u001b[0m                                 Traceback (most recent call last)",
      "\u001b[0;32m<ipython-input-5-4a67aec2c0d7>\u001b[0m in \u001b[0;36m<module>\u001b[0;34m()\u001b[0m\n\u001b[1;32m      1\u001b[0m \u001b[0mtarget\u001b[0m\u001b[0;34m=\u001b[0m\u001b[0marray\u001b[0m\u001b[0;34m(\u001b[0m\u001b[0;34m[\u001b[0m\u001b[0;34m[\u001b[0m\u001b[0;36m0\u001b[0m\u001b[0;34m,\u001b[0m\u001b[0;36m0\u001b[0m\u001b[0;34m,\u001b[0m\u001b[0;36m0\u001b[0m\u001b[0;34m,\u001b[0m\u001b[0;36m0\u001b[0m\u001b[0;34m,\u001b[0m\u001b[0;36m0\u001b[0m\u001b[0;34m,\u001b[0m\u001b[0;36m0\u001b[0m\u001b[0;34m,\u001b[0m\u001b[0;36m0\u001b[0m\u001b[0;34m,\u001b[0m\u001b[0;36m0\u001b[0m\u001b[0;34m,\u001b[0m\u001b[0;36m154\u001b[0m\u001b[0;34m]\u001b[0m\u001b[0;34m,\u001b[0m\u001b[0;34m]\u001b[0m\u001b[0;34m)\u001b[0m\u001b[0;34m\u001b[0m\u001b[0m\n\u001b[0;32m----> 2\u001b[0;31m \u001b[0mEhalf\u001b[0m\u001b[0;34m=\u001b[0m\u001b[0mpotential\u001b[0m\u001b[0;34m(\u001b[0m\u001b[0mType\u001b[0m\u001b[0;34m,\u001b[0m\u001b[0mtarget\u001b[0m\u001b[0;34m)\u001b[0m\u001b[0;34m\u001b[0m\u001b[0m\n\u001b[0m",
      "\u001b[0;31mNameError\u001b[0m: name 'Type' is not defined"
     ]
    }
   ],
   "source": [
    "target=array([[0,0,0,0,0,0,0,0,154],])\n",
    "Ehalf=potential(Type,target)\n"
   ]
  },
  {
   "cell_type": "markdown",
   "metadata": {},
   "source": [
    "Extract Data"
   ]
  },
  {
   "cell_type": "code",
   "execution_count": 5,
   "metadata": {},
   "outputs": [
    {
     "data": {
      "image/png": "[encoded data removed]",
      "text/plain": [
       "<Figure size 432x288 with 1 Axes>"
      ]
     },
     "metadata": {},
     "output_type": "display_data"
    },
    {
     "data": {
      "image/png": "[encoded data removed]",
      "text/plain": [
       "<Figure size 432x288 with 1 Axes>"
      ]
     },
     "metadata": {},
     "output_type": "display_data"
    },
    {
     "data": {
      "image/png": "[encoded data removed]",
      "text/plain": [
       "<Figure size 432x288 with 1 Axes>"
      ]
     },
     "metadata": {},
     "output_type": "display_data"
    }
   ],
   "source": [
    "subplot(311)\n",
    "plot(NoF,y,'or')\n",
    "xlabel(' Total No. of F')\n",
    "ylabel('$ E_{1/2}$')\n",
    "show()\n",
    "\n",
    "subplot(312)\n",
    "plot(F,y,'g*')\n",
    "xlabel(' No. of F groups')\n",
    "ylabel('$ E_{1/2}$')\n",
    "\n",
    "show()\n",
    "subplot(313)\n",
    "plot(CF3,y,'bD')\n",
    "xlabel(' No. of CF3 groups')\n",
    "ylabel('$ E_{1/2}$')\n",
    "show()\n"
   ]
  },
  {
   "cell_type": "code",
   "execution_count": 6,
   "metadata": {},
   "outputs": [],
   "source": [
    "#pandas.plotting.scatter_matrix(data,figsize=(15,15))"
   ]
  },
  {
   "cell_type": "markdown",
   "metadata": {},
   "source": [
    "Regression using Sklearn and Statsmodels"
   ]
  },
  {
   "cell_type": "code",
   "execution_count": 9,
   "metadata": {},
   "outputs": [],
   "source": [
    "import statsmodels.api as sm\n",
    "import statsmodels.formula.api as smf"
   ]
  },
  {
   "cell_type": "code",
   "execution_count": 10,
   "metadata": {},
   "outputs": [
    {
     "name": "stdout",
     "output_type": "stream",
     "text": [
      "                            OLS Regression Results                            \n",
      "==============================================================================\n",
      "Dep. Variable:                     E1   R-squared:                       0.931\n",
      "Model:                            OLS   Adj. R-squared:                  0.891\n",
      "Method:                 Least Squares   F-statistic:                     23.21\n",
      "Date:                Thu, 17 May 2018   Prob (F-statistic):           4.54e-06\n",
      "Time:                        15:18:22   Log-Likelihood:                 45.831\n",
      "No. Observations:                  20   AIC:                            -75.66\n",
      "Df Residuals:                      12   BIC:                            -67.70\n",
      "Df Model:                           7                                         \n",
      "Covariance Type:            nonrobust                                         \n",
      "==============================================================================\n",
      "                 coef    std err          t      P>|t|      [0.025      0.975]\n",
      "------------------------------------------------------------------------------\n",
      "Intercept     -2.2552      0.041    -54.908      0.000      -2.345      -2.166\n",
      "FG1            0.0015      0.002      0.917      0.377      -0.002       0.005\n",
      "FG2            0.0030      0.001      2.135      0.054   -6.29e-05       0.006\n",
      "FG3            0.0042      0.001      3.329      0.006       0.001       0.007\n",
      "FG4            0.0019      0.001      1.911      0.080      -0.000       0.004\n",
      "FG5            0.0059      0.001      4.162      0.001       0.003       0.009\n",
      "dist           0.0004      0.000      2.661      0.021    7.92e-05       0.001\n",
      "NoF            0.0160      0.003      5.865      0.000       0.010       0.022\n",
      "F             -0.0274      0.006     -4.512      0.001      -0.041      -0.014\n",
      "CF3            0.0145      0.003      4.939      0.000       0.008       0.021\n",
      "==============================================================================\n",
      "Omnibus:                        0.054   Durbin-Watson:                   2.537\n",
      "Prob(Omnibus):                  0.973   Jarque-Bera (JB):                0.244\n",
      "Skew:                           0.090   Prob(JB):                        0.885\n",
      "Kurtosis:                       2.489   Cond. No.                     1.75e+18\n",
      "==============================================================================\n",
      "\n",
      "Warnings:\n",
      "[1] Standard Errors assume that the covariance matrix of the errors is correctly specified.\n",
      "[2] The smallest eigenvalue is 3.97e-31. This might indicate that there are\n",
      "strong multicollinearity problems or that the design matrix is singular.\n"
     ]
    }
   ],
   "source": [
    "results = smf.ols('E1 ~  FG1+ FG2 + FG3 +FG4 + FG5  + dist + NoF +F + CF3 ', data=data).fit()\n",
    "\n",
    "print(results.summary())"
   ]
  },
  {
   "cell_type": "code",
   "execution_count": 31,
   "metadata": {},
   "outputs": [
    {
     "name": "stdout",
     "output_type": "stream",
     "text": [
      "SVR(C=1.0, cache_size=200, coef0=0.0, degree=3, epsilon=0.1, gamma='auto',\n",
      "  kernel='rbf', max_iter=-1, shrinking=True, tol=0.001, verbose=False)\n",
      "[-2.09464287] \n",
      "\n",
      "BayesianRidge(alpha_1=1e-06, alpha_2=1e-06, compute_score=False, copy_X=True,\n",
      "       fit_intercept=True, lambda_1=1e-06, lambda_2=1e-06, n_iter=300,\n",
      "       normalize=False, tol=0.001, verbose=False)\n",
      "[-2.20410816] \n",
      "\n",
      "LassoLars(alpha=1.0, copy_X=True, eps=2.220446049250313e-16,\n",
      "     fit_intercept=True, fit_path=True, max_iter=500, normalize=True,\n",
      "     positive=False, precompute='auto', verbose=False)\n",
      "[-2.0465] \n",
      "\n",
      "ARDRegression(alpha_1=1e-06, alpha_2=1e-06, compute_score=False, copy_X=True,\n",
      "       fit_intercept=True, lambda_1=1e-06, lambda_2=1e-06, n_iter=300,\n",
      "       normalize=False, threshold_lambda=10000.0, tol=0.001, verbose=False)\n",
      "[-2.16332295] \n",
      "\n",
      "PassiveAggressiveRegressor(C=1.0, average=False, epsilon=0.1,\n",
      "              fit_intercept=True, loss='epsilon_insensitive',\n",
      "              max_iter=None, n_iter=None, random_state=None, shuffle=True,\n",
      "              tol=None, verbose=0, warm_start=False)\n",
      "[-2.05530523] \n",
      "\n",
      "TheilSenRegressor(copy_X=True, fit_intercept=True, max_iter=300,\n",
      "         max_subpopulation=10000, n_jobs=1, n_subsamples=None,\n",
      "         random_state=None, tol=0.001, verbose=False)\n"
     ]
    },
    {
     "name": "stderr",
     "output_type": "stream",
     "text": [
      "/Users/kanchan/miniconda3/lib/python3.6/site-packages/sklearn/linear_model/stochastic_gradient.py:128: FutureWarning: max_iter and tol parameters have been added in <class 'sklearn.linear_model.passive_aggressive.PassiveAggressiveRegressor'> in 0.19. If both are left unset, they default to max_iter=5 and tol=None. If tol is not None, max_iter defaults to max_iter=1000. From 0.21, default max_iter will be 1000, and default tol will be 1e-3.\n",
      "  \"and default tol will be 1e-3.\" % type(self), FutureWarning)\n"
     ]
    },
    {
     "name": "stdout",
     "output_type": "stream",
     "text": [
      "[-2.18145784] \n",
      "\n",
      "LinearRegression(copy_X=True, fit_intercept=True, n_jobs=1, normalize=False)\n",
      "[-2.18784526] \n",
      "\n"
     ]
    }
   ],
   "source": [
    "from sklearn import linear_model\n",
    "from sklearn import svm\n",
    "\n",
    "classifiers = [\n",
    "    svm.SVR(),\n",
    "    linear_model.BayesianRidge(),\n",
    "    linear_model.LassoLars(),\n",
    "    linear_model.ARDRegression(),\n",
    "    linear_model.PassiveAggressiveRegressor(),\n",
    "    linear_model.TheilSenRegressor(),\n",
    "    linear_model.LinearRegression()]\n",
    "\n",
    "target=array([[0,0,0,0,0,0,0,0,154],])\n",
    "\n",
    "linear_model.LinearRegression()\n",
    "for item in classifiers:\n",
    "    print(item)\n",
    "    clf = item\n",
    "    clf.fit(X, y)\n",
    "    print(clf.predict(target),'\\n')\n"
   ]
  },
  {
   "cell_type": "code",
   "execution_count": 28,
   "metadata": {},
   "outputs": [
    {
     "data": {
      "application/vnd.vegalite.v2+json": {
       "$schema": "https://vega.github.io/schema/vega-lite/v2.4.1.json",
       "config": {
        "view": {
         "height": 300,
         "width": 400
        }
       },
       "data": {
        "values": [
         {
          "CF3": 0,
          "E1": -2.12,
          "E2": -2.34,
          "E3": -2.49,
          "F": 0,
          "FG1": 0,
          "FG2": 0,
          "FG3": 0,
          "FG4": 0,
          "FG5": 0,
          "NoF": 0,
          "dist": 312,
          "identity": "A"
         },
         {
          "CF3": 0,
          "E1": -2.08,
          "E2": -2.31,
          "E3": -2.43,
          "F": 1,
          "FG1": 11,
          "FG2": 0,
          "FG3": 0,
          "FG4": 0,
          "FG5": 0,
          "NoF": 1,
          "dist": 312,
          "identity": "B"
         },
         {
          "CF3": 0,
          "E1": -2.1,
          "E2": -2.33,
          "E3": -2.68,
          "F": 2,
          "FG1": 11,
          "FG2": 0,
          "FG3": 11,
          "FG4": 0,
          "FG5": 0,
          "NoF": 2,
          "dist": 312,
          "identity": "C"
         },
         {
          "CF3": 0,
          "E1": -2.12,
          "E2": -2.34,
          "E3": -2.64,
          "F": 2,
          "FG1": 11,
          "FG2": 0,
          "FG3": 0,
          "FG4": 11,
          "FG5": 0,
          "NoF": 2,
          "dist": 312,
          "identity": "D"
         },
         {
          "CF3": 0,
          "E1": -2.05,
          "E2": -2.31,
          "E3": -2.63,
          "F": 3,
          "FG1": 0,
          "FG2": 11,
          "FG3": 11,
          "FG4": 11,
          "FG5": 0,
          "NoF": 3,
          "dist": 312,
          "identity": "E"
         },
         {
          "CF3": 2,
          "E1": -1.94,
          "E2": -2.16,
          "E3": -2.38,
          "F": 0,
          "FG1": 22,
          "FG2": 0,
          "FG3": 0,
          "FG4": 22,
          "FG5": 0,
          "NoF": 6,
          "dist": 312,
          "identity": "F"
         },
         {
          "CF3": 2,
          "E1": -1.87,
          "E2": -2.06,
          "E3": -2.37,
          "F": 0,
          "FG1": 22,
          "FG2": 0,
          "FG3": 22,
          "FG4": 0,
          "FG5": 0,
          "NoF": 6,
          "dist": 312,
          "identity": "G"
         },
         {
          "CF3": 1,
          "E1": -2.03,
          "E2": -2.31,
          "E3": -2.5,
          "F": 1,
          "FG1": 22,
          "FG2": 0,
          "FG3": 0,
          "FG4": 11,
          "FG5": 0,
          "NoF": 4,
          "dist": 312,
          "identity": "H"
         },
         {
          "CF3": 1,
          "E1": -1.95,
          "E2": -2.23,
          "E3": -2.56,
          "F": 1,
          "FG1": 22,
          "FG2": 0,
          "FG3": 11,
          "FG4": 0,
          "FG5": 0,
          "NoF": 4,
          "dist": 312,
          "identity": "I"
         },
         {
          "CF3": 1,
          "E1": -2.02,
          "E2": -2.32,
          "E3": -2.5,
          "F": 0,
          "FG1": 22,
          "FG2": 0,
          "FG3": 0,
          "FG4": 0,
          "FG5": 0,
          "NoF": 3,
          "dist": 312,
          "identity": "J"
         },
         {
          "CF3": 2,
          "E1": -1.838,
          "E2": -2.195,
          "E3": -2.372,
          "F": 0,
          "FG1": 0,
          "FG2": 22,
          "FG3": 0,
          "FG4": 0,
          "FG5": 22,
          "NoF": 6,
          "dist": 154,
          "identity": "AA"
         },
         {
          "CF3": 2,
          "E1": -1.9340000000000002,
          "E2": -2.115,
          "E3": -2.331,
          "F": 0,
          "FG1": 0,
          "FG2": 22,
          "FG3": 0,
          "FG4": 22,
          "FG5": 0,
          "NoF": 6,
          "dist": 154,
          "identity": "BB"
         },
         {
          "CF3": 1,
          "E1": -2.039,
          "E2": -2.452,
          "E3": -2.699,
          "F": 1,
          "FG1": 0,
          "FG2": 22,
          "FG3": 0,
          "FG4": 0,
          "FG5": 11,
          "NoF": 4,
          "dist": 154,
          "identity": "CC"
         },
         {
          "CF3": 1,
          "E1": -2.044,
          "E2": -2.488,
          "E3": -2.708,
          "F": 1,
          "FG1": 0,
          "FG2": 22,
          "FG3": 0,
          "FG4": 11,
          "FG5": 0,
          "NoF": 4,
          "dist": 154,
          "identity": "DD"
         },
         {
          "CF3": 0,
          "E1": -2.11,
          "E2": -2.457,
          "E3": -2.639,
          "F": 3,
          "FG1": 0,
          "FG2": 0,
          "FG3": 11,
          "FG4": 11,
          "FG5": 11,
          "NoF": 3,
          "dist": 154,
          "identity": "EE"
         },
         {
          "CF3": 1,
          "E1": -2.11,
          "E2": -2.311,
          "E3": -2.548,
          "F": 0,
          "FG1": 0,
          "FG2": 22,
          "FG3": 0,
          "FG4": 0,
          "FG5": 0,
          "NoF": 3,
          "dist": 154,
          "identity": "FF"
         },
         {
          "CF3": 0,
          "E1": -2.11,
          "E2": -2.331,
          "E3": -2.588,
          "F": 2,
          "FG1": 0,
          "FG2": 11,
          "FG3": 0,
          "FG4": 11,
          "FG5": 0,
          "NoF": 2,
          "dist": 154,
          "identity": "GG"
         },
         {
          "CF3": 0,
          "E1": -2.12,
          "E2": -2.336,
          "E3": -2.6439999999999997,
          "F": 2,
          "FG1": 0,
          "FG2": 11,
          "FG3": 0,
          "FG4": 0,
          "FG5": 11,
          "NoF": 2,
          "dist": 154,
          "identity": "HH"
         },
         {
          "CF3": 0,
          "E1": -2.15,
          "E2": -2.674,
          "E3": -2.87,
          "F": 1,
          "FG1": 0,
          "FG2": 11,
          "FG3": 0,
          "FG4": 0,
          "FG5": 0,
          "NoF": 1,
          "dist": 154,
          "identity": "II"
         },
         {
          "CF3": 0,
          "E1": -2.195,
          "E2": -2.7439999999999998,
          "E3": -2.971,
          "F": 0,
          "FG1": 0,
          "FG2": 0,
          "FG3": 0,
          "FG4": 0,
          "FG5": 0,
          "NoF": 0,
          "dist": 154,
          "identity": "JJ"
         }
        ]
       },
       "encoding": {
        "tooltip": {
         "field": "identity",
         "type": "nominal"
        },
        "x": {
         "field": "NoF",
         "type": "quantitative"
        },
        "y": {
         "field": "E1",
         "type": "quantitative"
        }
       },
       "mark": "point",
       "selection": {
        "selector004": {
         "bind": "scales",
         "encodings": [
          "x",
          "y"
         ],
         "mark": {
          "fill": "#333",
          "fillOpacity": 0.125,
          "stroke": "white"
         },
         "on": "[mousedown, window:mouseup] > window:mousemove!",
         "resolve": "global",
         "translate": "[mousedown, window:mouseup] > window:mousemove!",
         "type": "interval",
         "zoom": "wheel!"
        }
       }
      },
      "image/png": "[encoded data removed]",
      "text/plain": [
       "<VegaLite 2 object>\n",
       "\n",
       "If you see this message, it means the renderer has not been properly enabled\n",
       "for the frontend that you are using. For more information, see\n",
       "https://altair-viz.github.io/user_guide/troubleshooting.html\n"
      ]
     },
     "execution_count": 28,
     "metadata": {},
     "output_type": "execute_result"
    }
   ],
   "source": [
    "alt.Chart(data).mark_point().encode(\n",
    "    x='NoF',\n",
    "    y='E1',\n",
    "    tooltip='identity'\n",
    "    ).interactive() "
   ]
  },
  {
   "cell_type": "code",
   "execution_count": 7,
   "metadata": {},
   "outputs": [],
   "source": [
    "data=pd.read_csv('data.csv')\n",
    "    \n",
    "df1=data.iloc[0:10]\n",
    "df2=data.iloc[10:]"
   ]
  },
  {
   "cell_type": "code",
   "execution_count": 8,
   "metadata": {},
   "outputs": [],
   "source": [
    "import statsmodels.api as sm\n",
    "import statsmodels.formula.api as smf"
   ]
  },
  {
   "cell_type": "code",
   "execution_count": 9,
   "metadata": {},
   "outputs": [
    {
     "name": "stdout",
     "output_type": "stream",
     "text": [
      "                            OLS Regression Results                            \n",
      "==============================================================================\n",
      "Dep. Variable:                     E1   R-squared:                       0.931\n",
      "Model:                            OLS   Adj. R-squared:                  0.891\n",
      "Method:                 Least Squares   F-statistic:                     23.21\n",
      "Date:                Fri, 18 May 2018   Prob (F-statistic):           4.54e-06\n",
      "Time:                        10:06:59   Log-Likelihood:                 45.831\n",
      "No. Observations:                  20   AIC:                            -75.66\n",
      "Df Residuals:                      12   BIC:                            -67.70\n",
      "Df Model:                           7                                         \n",
      "Covariance Type:            nonrobust                                         \n",
      "==============================================================================\n",
      "                 coef    std err          t      P>|t|      [0.025      0.975]\n",
      "------------------------------------------------------------------------------\n",
      "Intercept     -2.2552      0.041    -54.908      0.000      -2.345      -2.166\n",
      "FG1            0.0015      0.002      0.917      0.377      -0.002       0.005\n",
      "FG2            0.0030      0.001      2.135      0.054   -6.29e-05       0.006\n",
      "FG3            0.0042      0.001      3.329      0.006       0.001       0.007\n",
      "FG4            0.0019      0.001      1.911      0.080      -0.000       0.004\n",
      "FG5            0.0059      0.001      4.162      0.001       0.003       0.009\n",
      "dist           0.0004      0.000      2.661      0.021    7.92e-05       0.001\n",
      "NoF            0.0160      0.003      5.865      0.000       0.010       0.022\n",
      "F             -0.0274      0.006     -4.512      0.001      -0.041      -0.014\n",
      "CF3            0.0145      0.003      4.939      0.000       0.008       0.021\n",
      "==============================================================================\n",
      "Omnibus:                        0.054   Durbin-Watson:                   2.537\n",
      "Prob(Omnibus):                  0.973   Jarque-Bera (JB):                0.244\n",
      "Skew:                           0.090   Prob(JB):                        0.885\n",
      "Kurtosis:                       2.489   Cond. No.                     1.75e+18\n",
      "==============================================================================\n",
      "\n",
      "Warnings:\n",
      "[1] Standard Errors assume that the covariance matrix of the errors is correctly specified.\n",
      "[2] The smallest eigenvalue is 3.97e-31. This might indicate that there are\n",
      "strong multicollinearity problems or that the design matrix is singular.\n"
     ]
    }
   ],
   "source": [
    "results = smf.ols('E1 ~  FG1+ FG2 + FG3 +FG4 + FG5  + dist + NoF +F + CF3 ', data=data).fit()\n",
    "\n",
    "print(results.summary())"
   ]
  },
  {
   "cell_type": "code",
   "execution_count": 10,
   "metadata": {},
   "outputs": [
    {
     "name": "stdout",
     "output_type": "stream",
     "text": [
      "                            OLS Regression Results                            \n",
      "==============================================================================\n",
      "Dep. Variable:                     E1   R-squared:                       0.964\n",
      "Model:                            OLS   Adj. R-squared:                  0.920\n",
      "Method:                 Least Squares   F-statistic:                     21.70\n",
      "Date:                Fri, 18 May 2018   Prob (F-statistic):            0.00534\n",
      "Time:                        10:07:14   Log-Likelihood:                 27.738\n",
      "No. Observations:                  10   AIC:                            -43.48\n",
      "Df Residuals:                       4   BIC:                            -41.66\n",
      "Df Model:                           5                                         \n",
      "Covariance Type:            nonrobust                                         \n",
      "==============================================================================\n",
      "                 coef    std err          t      P>|t|      [0.025      0.975]\n",
      "------------------------------------------------------------------------------\n",
      "Intercept  -2.176e-05   2.28e-07    -95.603      0.000   -2.24e-05   -2.11e-05\n",
      "FG1            0.0025      0.002      1.606      0.184      -0.002       0.007\n",
      "FG2            0.0068      0.004      1.857      0.137      -0.003       0.017\n",
      "FG3            0.0033      0.001      2.290      0.084      -0.001       0.007\n",
      "FG4           -0.0004      0.001     -0.265      0.804      -0.004       0.004\n",
      "FG5         1.241e-19   4.26e-20      2.913      0.044    5.83e-21    2.42e-19\n",
      "dist          -0.0068    7.1e-05    -95.603      0.000      -0.007      -0.007\n",
      "NoF            0.0160      0.003      4.716      0.009       0.007       0.025\n",
      "F             -0.0287      0.007     -4.080      0.015      -0.048      -0.009\n",
      "CF3            0.0149      0.003      4.295      0.013       0.005       0.025\n",
      "==============================================================================\n",
      "Omnibus:                        0.796   Durbin-Watson:                   3.033\n",
      "Prob(Omnibus):                  0.672   Jarque-Bera (JB):                0.629\n",
      "Skew:                           0.503   Prob(JB):                        0.730\n",
      "Kurtosis:                       2.295   Cond. No.                     1.47e+19\n",
      "==============================================================================\n",
      "\n",
      "Warnings:\n",
      "[1] Standard Errors assume that the covariance matrix of the errors is correctly specified.\n",
      "[2] The smallest eigenvalue is 4.52e-33. This might indicate that there are\n",
      "strong multicollinearity problems or that the design matrix is singular.\n"
     ]
    },
    {
     "name": "stderr",
     "output_type": "stream",
     "text": [
      "/Users/kanchan/.local/lib/python3.6/site-packages/scipy/stats/stats.py:1394: UserWarning: kurtosistest only valid for n>=20 ... continuing anyway, n=10\n",
      "  \"anyway, n=%i\" % int(n))\n"
     ]
    }
   ],
   "source": [
    "results1 = smf.ols('E1 ~  FG1+ FG2 + FG3 +FG4 + FG5  + dist + NoF +F + CF3 ', data=df1).fit()\n",
    "\n",
    "print(results1.summary())"
   ]
  },
  {
   "cell_type": "code",
   "execution_count": 11,
   "metadata": {},
   "outputs": [
    {
     "name": "stdout",
     "output_type": "stream",
     "text": [
      "                            OLS Regression Results                            \n",
      "==============================================================================\n",
      "Dep. Variable:                     E1   R-squared:                       0.970\n",
      "Model:                            OLS   Adj. R-squared:                  0.934\n",
      "Method:                 Least Squares   F-statistic:                     26.29\n",
      "Date:                Fri, 18 May 2018   Prob (F-statistic):            0.00370\n",
      "Time:                        10:07:26   Log-Likelihood:                 26.299\n",
      "No. Observations:                  10   AIC:                            -40.60\n",
      "Df Residuals:                       4   BIC:                            -38.78\n",
      "Df Model:                           5                                         \n",
      "Covariance Type:            nonrobust                                         \n",
      "==============================================================================\n",
      "                 coef    std err          t      P>|t|      [0.025      0.975]\n",
      "------------------------------------------------------------------------------\n",
      "Intercept  -9.207e-05   1.08e-06    -85.362      0.000   -9.51e-05   -8.91e-05\n",
      "FG1        -1.131e-18   7.96e-20    -14.219      0.000   -1.35e-18    -9.1e-19\n",
      "FG2            0.0013      0.002      0.729      0.507      -0.004       0.006\n",
      "FG3           -0.0048      0.004     -1.150      0.314      -0.016       0.007\n",
      "FG4            0.0058      0.002      3.515      0.025       0.001       0.010\n",
      "FG5            0.0086      0.002      5.239      0.006       0.004       0.013\n",
      "dist          -0.0142      0.000    -85.362      0.000      -0.015      -0.014\n",
      "NoF            0.0134      0.004      3.422      0.027       0.003       0.024\n",
      "F             -0.0239      0.008     -2.938      0.042      -0.046      -0.001\n",
      "CF3            0.0124      0.004      3.102      0.036       0.001       0.024\n",
      "==============================================================================\n",
      "Omnibus:                        1.025   Durbin-Watson:                   2.933\n",
      "Prob(Omnibus):                  0.599   Jarque-Bera (JB):                0.723\n",
      "Skew:                           0.317   Prob(JB):                        0.697\n",
      "Kurtosis:                       1.846   Cond. No.                     2.61e+18\n",
      "==============================================================================\n",
      "\n",
      "Warnings:\n",
      "[1] Standard Errors assume that the covariance matrix of the errors is correctly specified.\n",
      "[2] The smallest eigenvalue is 3.51e-32. This might indicate that there are\n",
      "strong multicollinearity problems or that the design matrix is singular.\n"
     ]
    },
    {
     "name": "stderr",
     "output_type": "stream",
     "text": [
      "/Users/kanchan/.local/lib/python3.6/site-packages/scipy/stats/stats.py:1394: UserWarning: kurtosistest only valid for n>=20 ... continuing anyway, n=10\n",
      "  \"anyway, n=%i\" % int(n))\n"
     ]
    }
   ],
   "source": [
    "results2 = smf.ols('E1 ~  FG1+ FG2 + FG3 +FG4 + FG5  + dist + NoF +F + CF3 ', data=df2).fit()\n",
    "\n",
    "print(results2.summary())"
   ]
  },
  {
   "cell_type": "code",
   "execution_count": 12,
   "metadata": {},
   "outputs": [
    {
     "name": "stdout",
     "output_type": "stream",
     "text": [
      "                            OLS Regression Results                            \n",
      "==============================================================================\n",
      "Dep. Variable:                     E2   R-squared:                       0.975\n",
      "Model:                            OLS   Adj. R-squared:                  0.925\n",
      "Method:                 Least Squares   F-statistic:                     19.58\n",
      "Date:                Fri, 18 May 2018   Prob (F-statistic):             0.0167\n",
      "Time:                        10:07:47   Log-Likelihood:                 28.513\n",
      "No. Observations:                  10   AIC:                            -43.03\n",
      "Df Residuals:                       3   BIC:                            -40.91\n",
      "Df Model:                           6                                         \n",
      "Covariance Type:            nonrobust                                         \n",
      "==============================================================================\n",
      "                 coef    std err          t      P>|t|      [0.025      0.975]\n",
      "------------------------------------------------------------------------------\n",
      "Intercept   2.477e-06   1.16e-05      0.213      0.845   -3.45e-05    3.95e-05\n",
      "FG1           -0.0052      0.002     -2.482      0.089      -0.012       0.001\n",
      "FG2           -0.0125      0.005     -2.362      0.099      -0.029       0.004\n",
      "FG3            0.0033      0.002      1.428      0.249      -0.004       0.011\n",
      "FG4            0.0033      0.002      2.157      0.120      -0.002       0.008\n",
      "FG5        -5.921e-15   2.62e-15     -2.263      0.109   -1.42e-14     2.4e-15\n",
      "dist           0.0008      0.004      0.213      0.845      -0.011       0.012\n",
      "NoF           -0.0016      0.009     -0.167      0.878      -0.031       0.028\n",
      "F            5.99e-05      0.017      0.004      0.997      -0.054       0.054\n",
      "CF3           -0.0005      0.009     -0.061      0.955      -0.029       0.027\n",
      "E1             1.2105      0.534      2.266      0.108      -0.490       2.911\n",
      "==============================================================================\n",
      "Omnibus:                        0.088   Durbin-Watson:                   2.468\n",
      "Prob(Omnibus):                  0.957   Jarque-Bera (JB):                0.097\n",
      "Skew:                           0.028   Prob(JB):                        0.953\n",
      "Kurtosis:                       2.521   Cond. No.                     5.37e+18\n",
      "==============================================================================\n",
      "\n",
      "Warnings:\n",
      "[1] Standard Errors assume that the covariance matrix of the errors is correctly specified.\n",
      "[2] The input rank is higher than the number of observations.\n",
      "[3] The smallest eigenvalue is 3.38e-32. This might indicate that there are\n",
      "strong multicollinearity problems or that the design matrix is singular.\n"
     ]
    },
    {
     "name": "stderr",
     "output_type": "stream",
     "text": [
      "/Users/kanchan/.local/lib/python3.6/site-packages/scipy/stats/stats.py:1394: UserWarning: kurtosistest only valid for n>=20 ... continuing anyway, n=10\n",
      "  \"anyway, n=%i\" % int(n))\n"
     ]
    }
   ],
   "source": [
    "results3 = smf.ols('E2 ~  FG1+ FG2 + FG3 +FG4 + FG5  + dist + NoF +F + CF3 + E1', data=df1).fit()\n",
    "\n",
    "print(results3.summary())"
   ]
  },
  {
   "cell_type": "code",
   "execution_count": 13,
   "metadata": {},
   "outputs": [
    {
     "name": "stdout",
     "output_type": "stream",
     "text": [
      "                            OLS Regression Results                            \n",
      "==============================================================================\n",
      "Dep. Variable:                     E2   R-squared:                       0.715\n",
      "Model:                            OLS   Adj. R-squared:                  0.144\n",
      "Method:                 Least Squares   F-statistic:                     1.252\n",
      "Date:                Fri, 18 May 2018   Prob (F-statistic):              0.462\n",
      "Time:                        10:08:02   Log-Likelihood:                 8.8993\n",
      "No. Observations:                  10   AIC:                            -3.799\n",
      "Df Residuals:                       3   BIC:                            -1.681\n",
      "Df Model:                           6                                         \n",
      "Covariance Type:            nonrobust                                         \n",
      "==============================================================================\n",
      "                 coef    std err          t      P>|t|      [0.025      0.975]\n",
      "------------------------------------------------------------------------------\n",
      "Intercept     -0.0002      0.000     -0.712      0.528      -0.001       0.001\n",
      "FG1         3.011e-14   8.93e-14      0.337      0.758   -2.54e-13    3.14e-13\n",
      "FG2            0.0106      0.012      0.850      0.458      -0.029       0.050\n",
      "FG3           -0.0140      0.032     -0.440      0.690      -0.116       0.087\n",
      "FG4            0.0216      0.022      0.989      0.396      -0.048       0.091\n",
      "FG5            0.0228      0.030      0.752      0.507      -0.074       0.119\n",
      "dist          -0.0332      0.047     -0.712      0.528      -0.182       0.115\n",
      "NoF            0.0159      0.051      0.310      0.777      -0.147       0.179\n",
      "F             -0.0205      0.095     -0.216      0.843      -0.323       0.282\n",
      "CF3            0.0121      0.049      0.249      0.819      -0.143       0.167\n",
      "E1            -1.1087      3.289     -0.337      0.758     -11.577       9.360\n",
      "==============================================================================\n",
      "Omnibus:                        0.069   Durbin-Watson:                   1.078\n",
      "Prob(Omnibus):                  0.966   Jarque-Bera (JB):                0.297\n",
      "Skew:                          -0.026   Prob(JB):                        0.862\n",
      "Kurtosis:                       2.157   Cond. No.                     5.46e+17\n",
      "==============================================================================\n",
      "\n",
      "Warnings:\n",
      "[1] Standard Errors assume that the covariance matrix of the errors is correctly specified.\n",
      "[2] The input rank is higher than the number of observations.\n",
      "[3] The smallest eigenvalue is 8.06e-31. This might indicate that there are\n",
      "strong multicollinearity problems or that the design matrix is singular.\n"
     ]
    },
    {
     "name": "stderr",
     "output_type": "stream",
     "text": [
      "/Users/kanchan/.local/lib/python3.6/site-packages/scipy/stats/stats.py:1394: UserWarning: kurtosistest only valid for n>=20 ... continuing anyway, n=10\n",
      "  \"anyway, n=%i\" % int(n))\n"
     ]
    }
   ],
   "source": [
    "results4 = smf.ols('E2 ~  FG1+ FG2 + FG3 +FG4 + FG5  + dist + NoF +F + CF3 + E1', data=df2).fit()\n",
    "\n",
    "print(results4.summary())"
   ]
  },
  {
   "cell_type": "code",
   "execution_count": 24,
   "metadata": {},
   "outputs": [
    {
     "data": {
      "text/plain": [
       "0.96444209244331"
      ]
     },
     "execution_count": 24,
     "metadata": {},
     "output_type": "execute_result"
    }
   ],
   "source": [
    "results1.rsquared"
   ]
  },
  {
   "cell_type": "code",
   "execution_count": 25,
   "metadata": {},
   "outputs": [
    {
     "name": "stdout",
     "output_type": "stream",
     "text": [
      "                            OLS Regression Results                            \n",
      "==============================================================================\n",
      "Dep. Variable:                     E3   R-squared:                       1.000\n",
      "Model:                            OLS   Adj. R-squared:                  0.999\n",
      "Method:                 Least Squares   F-statistic:                     1283.\n",
      "Date:                Fri, 18 May 2018   Prob (F-statistic):           0.000779\n",
      "Time:                        10:19:48   Log-Likelihood:                 44.636\n",
      "No. Observations:                  10   AIC:                            -73.27\n",
      "Df Residuals:                       2   BIC:                            -70.85\n",
      "Df Model:                           7                                         \n",
      "Covariance Type:            nonrobust                                         \n",
      "==============================================================================\n",
      "                 coef    std err          t      P>|t|      [0.025      0.975]\n",
      "------------------------------------------------------------------------------\n",
      "Intercept   8.995e-05   1.13e-05      7.993      0.015    4.15e-05       0.000\n",
      "FG1        -1.221e-14   1.46e-15     -8.386      0.014   -1.85e-14   -5.94e-15\n",
      "FG2           -0.0023      0.000     -4.895      0.039      -0.004      -0.000\n",
      "FG3            0.0136      0.001     12.042      0.007       0.009       0.018\n",
      "FG4           -0.0070      0.001     -8.064      0.015      -0.011      -0.003\n",
      "FG5           -0.0105      0.001     -9.260      0.011      -0.015      -0.006\n",
      "dist           0.0139      0.002      7.993      0.015       0.006       0.021\n",
      "NoF           -0.0054      0.002     -3.021      0.094      -0.013       0.002\n",
      "F              0.0091      0.003      2.763      0.110      -0.005       0.023\n",
      "CF3           -0.0048      0.002     -2.857      0.104      -0.012       0.002\n",
      "E1             1.1873      0.115     10.312      0.009       0.692       1.683\n",
      "E2             0.9099      0.020     45.869      0.000       0.825       0.995\n",
      "==============================================================================\n",
      "Omnibus:                        0.143   Durbin-Watson:                   2.552\n",
      "Prob(Omnibus):                  0.931   Jarque-Bera (JB):                0.107\n",
      "Skew:                          -0.110   Prob(JB):                        0.948\n",
      "Kurtosis:                       2.544   Cond. No.                     5.83e+17\n",
      "==============================================================================\n",
      "\n",
      "Warnings:\n",
      "[1] Standard Errors assume that the covariance matrix of the errors is correctly specified.\n",
      "[2] The input rank is higher than the number of observations.\n",
      "[3] The smallest eigenvalue is 7.07e-31. This might indicate that there are\n",
      "strong multicollinearity problems or that the design matrix is singular.\n"
     ]
    },
    {
     "name": "stderr",
     "output_type": "stream",
     "text": [
      "/Users/kanchan/.local/lib/python3.6/site-packages/scipy/stats/stats.py:1394: UserWarning: kurtosistest only valid for n>=20 ... continuing anyway, n=10\n",
      "  \"anyway, n=%i\" % int(n))\n"
     ]
    }
   ],
   "source": [
    "results5 = smf.ols('E3 ~  FG1+ FG2 + FG3 +FG4 + FG5  + dist + NoF +F + CF3 + E1+E2', data=df2).fit()\n",
    "\n",
    "print(results5.summary())"
   ]
  },
  {
   "cell_type": "code",
   "execution_count": 26,
   "metadata": {},
   "outputs": [
    {
     "name": "stdout",
     "output_type": "stream",
     "text": [
      "                            OLS Regression Results                            \n",
      "==============================================================================\n",
      "Dep. Variable:                     E3   R-squared:                       0.936\n",
      "Model:                            OLS   Adj. R-squared:                  0.713\n",
      "Method:                 Least Squares   F-statistic:                     4.190\n",
      "Date:                Fri, 18 May 2018   Prob (F-statistic):              0.206\n",
      "Time:                        10:20:12   Log-Likelihood:                 22.323\n",
      "No. Observations:                  10   AIC:                            -28.65\n",
      "Df Residuals:                       2   BIC:                            -26.23\n",
      "Df Model:                           7                                         \n",
      "Covariance Type:            nonrobust                                         \n",
      "==============================================================================\n",
      "                 coef    std err          t      P>|t|      [0.025      0.975]\n",
      "------------------------------------------------------------------------------\n",
      "Intercept   3.786e-06   2.66e-05      0.142      0.900      -0.000       0.000\n",
      "FG1            0.0030      0.008      0.357      0.755      -0.033       0.039\n",
      "FG2            0.0211      0.020      1.032      0.410      -0.067       0.109\n",
      "FG3           -0.0176      0.007     -2.580      0.123      -0.047       0.012\n",
      "FG4           -0.0105      0.006     -1.892      0.199      -0.035       0.013\n",
      "FG5        -2.751e-14   1.22e-14     -2.251      0.153   -8.01e-14    2.51e-14\n",
      "dist           0.0012      0.008      0.142      0.900      -0.035       0.037\n",
      "NoF            0.0115      0.021      0.543      0.641      -0.080       0.103\n",
      "F             -0.0242      0.039     -0.622      0.597      -0.191       0.143\n",
      "CF3            0.0119      0.020      0.595      0.612      -0.074       0.098\n",
      "E1            -1.3171      2.001     -0.658      0.578      -9.926       7.292\n",
      "E2             2.4169      1.313      1.841      0.207      -3.233       8.067\n",
      "==============================================================================\n",
      "Omnibus:                        2.212   Durbin-Watson:                   1.815\n",
      "Prob(Omnibus):                  0.331   Jarque-Bera (JB):                0.641\n",
      "Skew:                           0.616   Prob(JB):                        0.726\n",
      "Kurtosis:                       3.140   Cond. No.                     8.55e+17\n",
      "==============================================================================\n",
      "\n",
      "Warnings:\n",
      "[1] Standard Errors assume that the covariance matrix of the errors is correctly specified.\n",
      "[2] The input rank is higher than the number of observations.\n",
      "[3] The smallest eigenvalue is 1.34e-30. This might indicate that there are\n",
      "strong multicollinearity problems or that the design matrix is singular.\n"
     ]
    },
    {
     "name": "stderr",
     "output_type": "stream",
     "text": [
      "/Users/kanchan/.local/lib/python3.6/site-packages/scipy/stats/stats.py:1394: UserWarning: kurtosistest only valid for n>=20 ... continuing anyway, n=10\n",
      "  \"anyway, n=%i\" % int(n))\n"
     ]
    }
   ],
   "source": [
    "results6 = smf.ols('E3 ~  FG1+ FG2 + FG3 +FG4 + FG5  + dist + NoF +F + CF3 + E1+E2', data=df1).fit()\n",
    "\n",
    "print(results6.summary())"
   ]
  },
  {
   "cell_type": "code",
   "execution_count": 27,
   "metadata": {},
   "outputs": [
    {
     "name": "stdout",
     "output_type": "stream",
     "text": [
      "                            OLS Regression Results                            \n",
      "==============================================================================\n",
      "Dep. Variable:                     E3   R-squared:                       0.928\n",
      "Model:                            OLS   Adj. R-squared:                  0.862\n",
      "Method:                 Least Squares   F-statistic:                     14.22\n",
      "Date:                Fri, 18 May 2018   Prob (F-statistic):           0.000138\n",
      "Time:                        10:20:32   Log-Likelihood:                 34.258\n",
      "No. Observations:                  20   AIC:                            -48.52\n",
      "Df Residuals:                      10   BIC:                            -38.56\n",
      "Df Model:                           9                                         \n",
      "Covariance Type:            nonrobust                                         \n",
      "==============================================================================\n",
      "                 coef    std err          t      P>|t|      [0.025      0.975]\n",
      "------------------------------------------------------------------------------\n",
      "Intercept      0.5376      1.280      0.420      0.683      -2.315       3.390\n",
      "FG1           -0.0046      0.003     -1.371      0.200      -0.012       0.003\n",
      "FG2           -0.0055      0.003     -1.657      0.128      -0.013       0.002\n",
      "FG3           -0.0073      0.003     -2.145      0.058      -0.015       0.000\n",
      "FG4           -0.0006      0.002     -0.257      0.802      -0.006       0.005\n",
      "FG5           -0.0007      0.004     -0.166      0.872      -0.010       0.009\n",
      "dist       -1.453e-05      0.000     -0.033      0.974      -0.001       0.001\n",
      "NoF            0.0031      0.010      0.294      0.775      -0.020       0.026\n",
      "F             -0.0113      0.019     -0.577      0.577      -0.055       0.032\n",
      "CF3            0.0048      0.010      0.479      0.642      -0.017       0.027\n",
      "E1             0.4225      0.583      0.725      0.485      -0.877       1.721\n",
      "E2             0.9160      0.160      5.711      0.000       0.559       1.273\n",
      "==============================================================================\n",
      "Omnibus:                        0.701   Durbin-Watson:                   1.925\n",
      "Prob(Omnibus):                  0.704   Jarque-Bera (JB):                0.637\n",
      "Skew:                           0.378   Prob(JB):                        0.727\n",
      "Kurtosis:                       2.560   Cond. No.                     9.78e+17\n",
      "==============================================================================\n",
      "\n",
      "Warnings:\n",
      "[1] Standard Errors assume that the covariance matrix of the errors is correctly specified.\n",
      "[2] The smallest eigenvalue is 1.27e-30. This might indicate that there are\n",
      "strong multicollinearity problems or that the design matrix is singular.\n"
     ]
    }
   ],
   "source": [
    "results7 = smf.ols('E3 ~  FG1+ FG2 + FG3 +FG4 + FG5  + dist + NoF +F + CF3 + E1+E2', data=data).fit()\n",
    "\n",
    "print(results7.summary())"
   ]
  },
  {
   "cell_type": "code",
   "execution_count": 28,
   "metadata": {},
   "outputs": [
    {
     "name": "stdout",
     "output_type": "stream",
     "text": [
      "                            OLS Regression Results                            \n",
      "==============================================================================\n",
      "Dep. Variable:                     E2   R-squared:                       0.716\n",
      "Model:                            OLS   Adj. R-squared:                  0.510\n",
      "Method:                 Least Squares   F-statistic:                     3.468\n",
      "Date:                Fri, 18 May 2018   Prob (F-statistic):             0.0300\n",
      "Time:                        10:22:43   Log-Likelihood:                 20.679\n",
      "No. Observations:                  20   AIC:                            -23.36\n",
      "Df Residuals:                      11   BIC:                            -14.40\n",
      "Df Model:                           8                                         \n",
      "Covariance Type:            nonrobust                                         \n",
      "==============================================================================\n",
      "                 coef    std err          t      P>|t|      [0.025      0.975]\n",
      "------------------------------------------------------------------------------\n",
      "Intercept     -0.7618      2.396     -0.318      0.756      -6.036       4.512\n",
      "FG1           -0.0007      0.006     -0.109      0.915      -0.015       0.013\n",
      "FG2            0.0037      0.006      0.605      0.558      -0.010       0.017\n",
      "FG3            0.0024      0.006      0.383      0.709      -0.012       0.016\n",
      "FG4            0.0038      0.004      0.909      0.383      -0.005       0.013\n",
      "FG5            0.0017      0.008      0.207      0.840      -0.016       0.019\n",
      "dist           0.0010      0.001      1.352      0.204      -0.001       0.003\n",
      "NoF            0.0024      0.020      0.122      0.905      -0.041       0.046\n",
      "F             -0.0018      0.037     -0.049      0.961      -0.082       0.079\n",
      "CF3            0.0014      0.019      0.075      0.942      -0.040       0.043\n",
      "E1             0.9198      1.060      0.867      0.404      -1.414       3.254\n",
      "==============================================================================\n",
      "Omnibus:                        0.526   Durbin-Watson:                   1.362\n",
      "Prob(Omnibus):                  0.769   Jarque-Bera (JB):                0.593\n",
      "Skew:                           0.125   Prob(JB):                        0.744\n",
      "Kurtosis:                       2.194   Cond. No.                     1.53e+18\n",
      "==============================================================================\n",
      "\n",
      "Warnings:\n",
      "[1] Standard Errors assume that the covariance matrix of the errors is correctly specified.\n",
      "[2] The smallest eigenvalue is 5.22e-31. This might indicate that there are\n",
      "strong multicollinearity problems or that the design matrix is singular.\n"
     ]
    }
   ],
   "source": [
    "results8 = smf.ols('E2 ~  FG1+ FG2 + FG3 +FG4 + FG5  + dist + NoF +F + CF3 + E1', data=data).fit()\n",
    "\n",
    "print(results8.summary())"
   ]
  },
  {
   "cell_type": "code",
   "execution_count": null,
   "metadata": {},
   "outputs": [],
   "source": []
  }
 ],
 "metadata": {
  "kernelspec": {
   "display_name": "Python 3",
   "language": "python",
   "name": "python3"
  },
  "language_info": {
   "codemirror_mode": {
    "name": "ipython",
    "version": 3
   },
   "file_extension": ".py",
   "mimetype": "text/x-python",
   "name": "python",
   "nbconvert_exporter": "python",
   "pygments_lexer": "ipython3",
   "version": "3.6.5"
  }
 },
 "nbformat": 4,
 "nbformat_minor": 2
}
